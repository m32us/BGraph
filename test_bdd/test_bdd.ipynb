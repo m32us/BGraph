{
 "cells": [
  {
   "cell_type": "code",
   "execution_count": 1,
   "metadata": {},
   "outputs": [
    {
     "name": "stdout",
     "output_type": "stream",
     "text": [
      "zsh:1: command not found: install_ext\n"
     ]
    }
   ],
   "source": [
    "!install_ext https://raw.github.com/cjdrake/ipython-magic/master/gvmagic.py"
   ]
  },
  {
   "cell_type": "code",
   "execution_count": 2,
   "metadata": {},
   "outputs": [],
   "source": [
    "from pyeda.inter import *\n",
    "import pydot\n",
    "import graphviz\n",
    "import pandas as pd"
   ]
  },
  {
   "cell_type": "code",
   "execution_count": 9,
   "metadata": {},
   "outputs": [],
   "source": [
    "# R = ['000010','010000','100000','011000','110100','100001','010001','001011','101001','101111','111110','111011','110011']\n",
    "# Rs = []\n",
    "# for s in R:\n",
    "#     Rs.append([int(e) for e in s])\n",
    "    \n",
    "# R = pd.DataFrame(Rs)\n",
    "# R"
   ]
  },
  {
   "cell_type": "code",
   "execution_count": 14,
   "metadata": {},
   "outputs": [
    {
     "data": {
      "text/html": [
       "<div>\n",
       "<style scoped>\n",
       "    .dataframe tbody tr th:only-of-type {\n",
       "        vertical-align: middle;\n",
       "    }\n",
       "\n",
       "    .dataframe tbody tr th {\n",
       "        vertical-align: top;\n",
       "    }\n",
       "\n",
       "    .dataframe thead th {\n",
       "        text-align: right;\n",
       "    }\n",
       "</style>\n",
       "<table border=\"1\" class=\"dataframe\">\n",
       "  <thead>\n",
       "    <tr style=\"text-align: right;\">\n",
       "      <th></th>\n",
       "      <th>0</th>\n",
       "      <th>1</th>\n",
       "      <th>2</th>\n",
       "      <th>3</th>\n",
       "      <th>4</th>\n",
       "      <th>5</th>\n",
       "      <th>6</th>\n",
       "      <th>7</th>\n",
       "      <th>8</th>\n",
       "      <th>9</th>\n",
       "    </tr>\n",
       "  </thead>\n",
       "  <tbody>\n",
       "    <tr>\n",
       "      <th>0</th>\n",
       "      <td>0</td>\n",
       "      <td>0</td>\n",
       "      <td>0</td>\n",
       "      <td>0</td>\n",
       "      <td>0</td>\n",
       "      <td>0</td>\n",
       "      <td>0</td>\n",
       "      <td>1</td>\n",
       "      <td>0</td>\n",
       "      <td>0</td>\n",
       "    </tr>\n",
       "    <tr>\n",
       "      <th>1</th>\n",
       "      <td>0</td>\n",
       "      <td>0</td>\n",
       "      <td>0</td>\n",
       "      <td>0</td>\n",
       "      <td>0</td>\n",
       "      <td>1</td>\n",
       "      <td>0</td>\n",
       "      <td>1</td>\n",
       "      <td>0</td>\n",
       "      <td>0</td>\n",
       "    </tr>\n",
       "    <tr>\n",
       "      <th>2</th>\n",
       "      <td>0</td>\n",
       "      <td>0</td>\n",
       "      <td>0</td>\n",
       "      <td>0</td>\n",
       "      <td>0</td>\n",
       "      <td>0</td>\n",
       "      <td>0</td>\n",
       "      <td>0</td>\n",
       "      <td>1</td>\n",
       "      <td>0</td>\n",
       "    </tr>\n",
       "    <tr>\n",
       "      <th>3</th>\n",
       "      <td>0</td>\n",
       "      <td>0</td>\n",
       "      <td>0</td>\n",
       "      <td>0</td>\n",
       "      <td>0</td>\n",
       "      <td>0</td>\n",
       "      <td>0</td>\n",
       "      <td>1</td>\n",
       "      <td>1</td>\n",
       "      <td>0</td>\n",
       "    </tr>\n",
       "    <tr>\n",
       "      <th>4</th>\n",
       "      <td>0</td>\n",
       "      <td>0</td>\n",
       "      <td>0</td>\n",
       "      <td>0</td>\n",
       "      <td>0</td>\n",
       "      <td>1</td>\n",
       "      <td>0</td>\n",
       "      <td>1</td>\n",
       "      <td>1</td>\n",
       "      <td>0</td>\n",
       "    </tr>\n",
       "  </tbody>\n",
       "</table>\n",
       "</div>"
      ],
      "text/plain": [
       "   0  1  2  3  4  5  6  7  8  9\n",
       "0  0  0  0  0  0  0  0  1  0  0\n",
       "1  0  0  0  0  0  1  0  1  0  0\n",
       "2  0  0  0  0  0  0  0  0  1  0\n",
       "3  0  0  0  0  0  0  0  1  1  0\n",
       "4  0  0  0  0  0  1  0  1  1  0"
      ]
     },
     "execution_count": 14,
     "metadata": {},
     "output_type": "execute_result"
    }
   ],
   "source": [
    "R = []\n",
    "with open('data/processed_test_graph_0.csv') as fin:\n",
    "    num_nodes = fin.readline()\n",
    "    num_edges = fin.readline()\n",
    "    for line in fin.readlines():\n",
    "        R.append(line.rstrip('\\n'))\n",
    "        \n",
    "Rs = []\n",
    "for s in R:\n",
    "    Rs.append([int(e) for e in s])\n",
    "    \n",
    "R = pd.DataFrame(Rs)\n",
    "R.head()"
   ]
  },
  {
   "cell_type": "code",
   "execution_count": 15,
   "metadata": {},
   "outputs": [
    {
     "data": {
      "text/plain": [
       "'~x0 & ~x1 & ~x2 & ~x3 & ~x4 & ~x5 & ~x6 & x7 & ~x8 & ~x9 | ~x0 & ~x1 & ~x2 & ~x3 & ~x4 & x5 & ~x6 & x7 & ~x8 & ~x9 | ~x0 & ~x1 & ~x2 & ~x3 & ~x4 & ~x5 & ~x6 & ~x7 & x8 & ~x9 | ~x0 & ~x1 & ~x2 & ~x3 & ~x4 & ~x5 & ~x6 & x7 & x8 & ~x9 | ~x0 & ~x1 & ~x2 & ~x3 & ~x4 & x5 & ~x6 & x7 & x8 & ~x9 | x0 & ~x1 & ~x2 & ~x3 & ~x4 & x5 & x6 & ~x7 & ~x8 & ~x9 | x0 & ~x1 & ~x2 & ~x3 & ~x4 & ~x5 & x6 & x7 & ~x8 & ~x9 | x0 & ~x1 & ~x2 & ~x3 & ~x4 & x5 & ~x6 & ~x7 & x8 & ~x9 | x0 & ~x1 & ~x2 & ~x3 & ~x4 & ~x5 & x6 & ~x7 & x8 & ~x9 | x0 & ~x1 & ~x2 & ~x3 & ~x4 & x5 & x6 & ~x7 & x8 & ~x9 | x0 & ~x1 & ~x2 & ~x3 & ~x4 & ~x5 & ~x6 & x7 & x8 & ~x9 | x0 & ~x1 & ~x2 & ~x3 & ~x4 & ~x5 & x6 & x7 & x8 & ~x9 | x0 & ~x1 & ~x2 & ~x3 & ~x4 & x5 & x6 & x7 & x8 & ~x9 | ~x0 & x1 & ~x2 & ~x3 & ~x4 & x5 & x6 & ~x7 & ~x8 & ~x9 | ~x0 & x1 & ~x2 & ~x3 & ~x4 & x5 & x6 & x7 & ~x8 & ~x9 | ~x0 & x1 & ~x2 & ~x3 & ~x4 & ~x5 & x6 & ~x7 & x8 & ~x9 | ~x0 & x1 & ~x2 & ~x3 & ~x4 & x5 & x6 & ~x7 & x8 & ~x9 | ~x0 & x1 & ~x2 & ~x3 & ~x4 & ~x5 & ~x6 & x7 & x8 & ~x9 | x0 & x1 & ~x2 & ~x3 & ~x4 & x5 & ~x6 & ~x7 & ~x8 & ~x9 | x0 & x1 & ~x2 & ~x3 & ~x4 & ~x5 & x6 & ~x7 & ~x8 & ~x9 | x0 & x1 & ~x2 & ~x3 & ~x4 & x5 & ~x6 & x7 & ~x8 & ~x9 | x0 & x1 & ~x2 & ~x3 & ~x4 & ~x5 & x6 & x7 & ~x8 & ~x9 | x0 & x1 & ~x2 & ~x3 & ~x4 & x5 & x6 & x7 & ~x8 & ~x9 | x0 & x1 & ~x2 & ~x3 & ~x4 & x5 & ~x6 & ~x7 & x8 & ~x9 | x0 & x1 & ~x2 & ~x3 & ~x4 & ~x5 & x6 & ~x7 & x8 & ~x9 | x0 & x1 & ~x2 & ~x3 & ~x4 & x5 & x6 & ~x7 & x8 & ~x9 | x0 & x1 & ~x2 & ~x3 & ~x4 & x5 & ~x6 & x7 & x8 & ~x9 | x0 & x1 & ~x2 & ~x3 & ~x4 & ~x5 & x6 & x7 & x8 & ~x9 | x0 & x1 & ~x2 & ~x3 & ~x4 & x5 & x6 & x7 & x8 & ~x9 | ~x0 & ~x1 & x2 & ~x3 & ~x4 & ~x5 & ~x6 & ~x7 & ~x8 & ~x9 | ~x0 & ~x1 & x2 & ~x3 & ~x4 & x5 & ~x6 & x7 & ~x8 & ~x9 | ~x0 & ~x1 & x2 & ~x3 & ~x4 & ~x5 & ~x6 & ~x7 & x8 & ~x9 | ~x0 & ~x1 & x2 & ~x3 & ~x4 & ~x5 & x6 & ~x7 & x8 & ~x9 | ~x0 & ~x1 & x2 & ~x3 & ~x4 & x5 & x6 & ~x7 & x8 & ~x9 | ~x0 & ~x1 & x2 & ~x3 & ~x4 & ~x5 & ~x6 & x7 & x8 & ~x9 | ~x0 & ~x1 & x2 & ~x3 & ~x4 & x5 & ~x6 & x7 & x8 & ~x9 | ~x0 & ~x1 & x2 & ~x3 & ~x4 & ~x5 & x6 & x7 & x8 & ~x9 | x0 & ~x1 & x2 & ~x3 & ~x4 & ~x5 & ~x6 & ~x7 & ~x8 & ~x9 | x0 & ~x1 & x2 & ~x3 & ~x4 & x5 & x6 & ~x7 & ~x8 & ~x9 | x0 & ~x1 & x2 & ~x3 & ~x4 & ~x5 & ~x6 & x7 & ~x8 & ~x9 | x0 & ~x1 & x2 & ~x3 & ~x4 & ~x5 & x6 & x7 & ~x8 & ~x9 | x0 & ~x1 & x2 & ~x3 & ~x4 & x5 & x6 & x7 & ~x8 & ~x9 | x0 & ~x1 & x2 & ~x3 & ~x4 & ~x5 & ~x6 & ~x7 & x8 & ~x9 | x0 & ~x1 & x2 & ~x3 & ~x4 & ~x5 & x6 & ~x7 & x8 & ~x9 | x0 & ~x1 & x2 & ~x3 & ~x4 & x5 & x6 & ~x7 & x8 & ~x9 | x0 & ~x1 & x2 & ~x3 & ~x4 & ~x5 & ~x6 & x7 & x8 & ~x9 | x0 & ~x1 & x2 & ~x3 & ~x4 & ~x5 & x6 & x7 & x8 & ~x9 | x0 & ~x1 & x2 & ~x3 & ~x4 & x5 & x6 & x7 & x8 & ~x9 | ~x0 & x1 & x2 & ~x3 & ~x4 & x5 & ~x6 & ~x7 & ~x8 & ~x9 | ~x0 & x1 & x2 & ~x3 & ~x4 & x5 & x6 & ~x7 & ~x8 & ~x9 | ~x0 & x1 & x2 & ~x3 & ~x4 & x5 & ~x6 & x7 & ~x8 & ~x9 | ~x0 & x1 & x2 & ~x3 & ~x4 & x5 & x6 & x7 & ~x8 & ~x9 | ~x0 & x1 & x2 & ~x3 & ~x4 & ~x5 & ~x6 & ~x7 & x8 & ~x9 | ~x0 & x1 & x2 & ~x3 & ~x4 & x5 & x6 & ~x7 & x8 & ~x9 | ~x0 & x1 & x2 & ~x3 & ~x4 & ~x5 & ~x6 & x7 & x8 & ~x9 | ~x0 & x1 & x2 & ~x3 & ~x4 & ~x5 & x6 & x7 & x8 & ~x9 | ~x0 & x1 & x2 & ~x3 & ~x4 & x5 & x6 & x7 & x8 & ~x9 | x0 & x1 & x2 & ~x3 & ~x4 & ~x5 & x6 & ~x7 & ~x8 & ~x9 | x0 & x1 & x2 & ~x3 & ~x4 & x5 & x6 & ~x7 & ~x8 & ~x9 | x0 & x1 & x2 & ~x3 & ~x4 & x5 & ~x6 & x7 & ~x8 & ~x9 | x0 & x1 & x2 & ~x3 & ~x4 & ~x5 & x6 & x7 & ~x8 & ~x9 | x0 & x1 & x2 & ~x3 & ~x4 & ~x5 & ~x6 & ~x7 & x8 & ~x9 | x0 & x1 & x2 & ~x3 & ~x4 & x5 & ~x6 & ~x7 & x8 & ~x9 | x0 & x1 & x2 & ~x3 & ~x4 & ~x5 & x6 & ~x7 & x8 & ~x9 | x0 & x1 & x2 & ~x3 & ~x4 & x5 & x6 & ~x7 & x8 & ~x9 | x0 & x1 & x2 & ~x3 & ~x4 & ~x5 & ~x6 & x7 & x8 & ~x9 | x0 & x1 & x2 & ~x3 & ~x4 & ~x5 & x6 & x7 & x8 & ~x9 | ~x0 & ~x1 & ~x2 & x3 & ~x4 & ~x5 & ~x6 & ~x7 & ~x8 & ~x9 | ~x0 & ~x1 & ~x2 & x3 & ~x4 & ~x5 & ~x6 & x7 & ~x8 & ~x9 | ~x0 & ~x1 & ~x2 & x3 & ~x4 & x5 & ~x6 & x7 & ~x8 & ~x9 | ~x0 & ~x1 & ~x2 & x3 & ~x4 & ~x5 & x6 & x7 & ~x8 & ~x9 | ~x0 & ~x1 & ~x2 & x3 & ~x4 & x5 & x6 & x7 & ~x8 & ~x9 | ~x0 & ~x1 & ~x2 & x3 & ~x4 & ~x5 & x6 & x7 & x8 & ~x9 | ~x0 & ~x1 & ~x2 & x3 & ~x4 & x5 & x6 & x7 & x8 & ~x9 | x0 & ~x1 & ~x2 & x3 & ~x4 & x5 & ~x6 & ~x7 & ~x8 & ~x9 | x0 & ~x1 & ~x2 & x3 & ~x4 & x5 & x6 & ~x7 & ~x8 & ~x9 | x0 & ~x1 & ~x2 & x3 & ~x4 & x5 & x6 & x7 & ~x8 & ~x9 | x0 & ~x1 & ~x2 & x3 & ~x4 & x5 & x6 & ~x7 & x8 & ~x9 | x0 & ~x1 & ~x2 & x3 & ~x4 & ~x5 & ~x6 & x7 & x8 & ~x9 | x0 & ~x1 & ~x2 & x3 & ~x4 & x5 & ~x6 & x7 & x8 & ~x9 | x0 & ~x1 & ~x2 & x3 & ~x4 & ~x5 & x6 & x7 & x8 & ~x9 | ~x0 & x1 & ~x2 & x3 & ~x4 & x5 & ~x6 & ~x7 & ~x8 & ~x9 | ~x0 & x1 & ~x2 & x3 & ~x4 & ~x5 & x6 & ~x7 & ~x8 & ~x9 | ~x0 & x1 & ~x2 & x3 & ~x4 & x5 & x6 & ~x7 & ~x8 & ~x9 | ~x0 & x1 & ~x2 & x3 & ~x4 & ~x5 & ~x6 & x7 & ~x8 & ~x9 | ~x0 & x1 & ~x2 & x3 & ~x4 & x5 & ~x6 & x7 & ~x8 & ~x9 | ~x0 & x1 & ~x2 & x3 & ~x4 & x5 & x6 & x7 & ~x8 & ~x9 | ~x0 & x1 & ~x2 & x3 & ~x4 & ~x5 & ~x6 & x7 & x8 & ~x9 | ~x0 & x1 & ~x2 & x3 & ~x4 & x5 & ~x6 & x7 & x8 & ~x9 | ~x0 & x1 & ~x2 & x3 & ~x4 & ~x5 & x6 & x7 & x8 & ~x9 | ~x0 & x1 & ~x2 & x3 & ~x4 & x5 & x6 & x7 & x8 & ~x9 | x0 & x1 & ~x2 & x3 & ~x4 & x5 & ~x6 & ~x7 & ~x8 & ~x9 | x0 & x1 & ~x2 & x3 & ~x4 & ~x5 & x6 & ~x7 & ~x8 & ~x9 | x0 & x1 & ~x2 & x3 & ~x4 & x5 & x6 & ~x7 & ~x8 & ~x9 | x0 & x1 & ~x2 & x3 & ~x4 & ~x5 & ~x6 & x7 & ~x8 & ~x9 | x0 & x1 & ~x2 & x3 & ~x4 & x5 & ~x6 & x7 & ~x8 & ~x9 | x0 & x1 & ~x2 & x3 & ~x4 & ~x5 & x6 & x7 & ~x8 & ~x9 | x0 & x1 & ~x2 & x3 & ~x4 & x5 & x6 & x7 & ~x8 & ~x9 | x0 & x1 & ~x2 & x3 & ~x4 & x5 & ~x6 & ~x7 & x8 & ~x9 | x0 & x1 & ~x2 & x3 & ~x4 & ~x5 & ~x6 & x7 & x8 & ~x9 | x0 & x1 & ~x2 & x3 & ~x4 & x5 & ~x6 & x7 & x8 & ~x9 | ~x0 & ~x1 & x2 & x3 & ~x4 & ~x5 & ~x6 & ~x7 & ~x8 & ~x9 | ~x0 & ~x1 & x2 & x3 & ~x4 & x5 & ~x6 & ~x7 & ~x8 & ~x9 | ~x0 & ~x1 & x2 & x3 & ~x4 & ~x5 & x6 & ~x7 & ~x8 & ~x9 | ~x0 & ~x1 & x2 & x3 & ~x4 & ~x5 & ~x6 & x7 & ~x8 & ~x9 | ~x0 & ~x1 & x2 & x3 & ~x4 & x5 & ~x6 & x7 & ~x8 & ~x9 | ~x0 & ~x1 & x2 & x3 & ~x4 & ~x5 & x6 & x7 & ~x8 & ~x9 | ~x0 & ~x1 & x2 & x3 & ~x4 & x5 & x6 & x7 & ~x8 & ~x9 | ~x0 & ~x1 & x2 & x3 & ~x4 & x5 & ~x6 & ~x7 & x8 & ~x9 | ~x0 & ~x1 & x2 & x3 & ~x4 & ~x5 & x6 & ~x7 & x8 & ~x9 | ~x0 & ~x1 & x2 & x3 & ~x4 & x5 & x6 & ~x7 & x8 & ~x9 | x0 & ~x1 & x2 & x3 & ~x4 & ~x5 & ~x6 & ~x7 & ~x8 & ~x9 | x0 & ~x1 & x2 & x3 & ~x4 & x5 & x6 & ~x7 & ~x8 & ~x9 | x0 & ~x1 & x2 & x3 & ~x4 & ~x5 & ~x6 & x7 & ~x8 & ~x9 | x0 & ~x1 & x2 & x3 & ~x4 & x5 & ~x6 & ~x7 & x8 & ~x9 | x0 & ~x1 & x2 & x3 & ~x4 & ~x5 & x6 & ~x7 & x8 & ~x9 | x0 & ~x1 & x2 & x3 & ~x4 & x5 & x6 & ~x7 & x8 & ~x9 | x0 & ~x1 & x2 & x3 & ~x4 & ~x5 & x6 & x7 & x8 & ~x9 | ~x0 & x1 & x2 & x3 & ~x4 & x5 & ~x6 & ~x7 & ~x8 & ~x9 | ~x0 & x1 & x2 & x3 & ~x4 & x5 & x6 & ~x7 & ~x8 & ~x9 | ~x0 & x1 & x2 & x3 & ~x4 & ~x5 & ~x6 & x7 & ~x8 & ~x9 | ~x0 & x1 & x2 & x3 & ~x4 & x5 & ~x6 & x7 & ~x8 & ~x9 | ~x0 & x1 & x2 & x3 & ~x4 & ~x5 & x6 & x7 & ~x8 & ~x9 | ~x0 & x1 & x2 & x3 & ~x4 & x5 & x6 & x7 & ~x8 & ~x9 | ~x0 & x1 & x2 & x3 & ~x4 & ~x5 & ~x6 & ~x7 & x8 & ~x9 | ~x0 & x1 & x2 & x3 & ~x4 & x5 & ~x6 & ~x7 & x8 & ~x9 | ~x0 & x1 & x2 & x3 & ~x4 & ~x5 & x6 & ~x7 & x8 & ~x9 | ~x0 & x1 & x2 & x3 & ~x4 & x5 & ~x6 & x7 & x8 & ~x9 | x0 & x1 & x2 & x3 & ~x4 & x5 & ~x6 & ~x7 & ~x8 & ~x9 | x0 & x1 & x2 & x3 & ~x4 & x5 & x6 & ~x7 & ~x8 & ~x9 | x0 & x1 & x2 & x3 & ~x4 & x5 & ~x6 & x7 & ~x8 & ~x9 | x0 & x1 & x2 & x3 & ~x4 & ~x5 & x6 & x7 & ~x8 & ~x9 | x0 & x1 & x2 & x3 & ~x4 & ~x5 & ~x6 & ~x7 & x8 & ~x9 | x0 & x1 & x2 & x3 & ~x4 & ~x5 & x6 & ~x7 & x8 & ~x9'"
      ]
     },
     "execution_count": 15,
     "metadata": {},
     "output_type": "execute_result"
    }
   ],
   "source": [
    "def convert_row_to_formula(row):\n",
    "    row_formula = ['~'*abs(row[i]-1) + f'x{i}' for i in range(len(row))]\n",
    "    return ' & '.join(row_formula)\n",
    "\n",
    "def convert_bin_formula(R):\n",
    "    r_formulas = []\n",
    "    for row in R.iterrows():\n",
    "        r_formula = convert_row_to_formula(row[1])\n",
    "        r_formulas.append(r_formula)\n",
    "    return ' | '.join(r_formulas)\n",
    "\n",
    "expression = convert_bin_formula(R)\n",
    "expression"
   ]
  },
  {
   "cell_type": "code",
   "execution_count": 16,
   "metadata": {},
   "outputs": [],
   "source": [
    "f = expr(expression)\n",
    "f = expr2bdd(f)"
   ]
  },
  {
   "cell_type": "code",
   "execution_count": 17,
   "metadata": {},
   "outputs": [
    {
     "data": {
      "text/plain": [
       "'render_pdf_name.pdf'"
      ]
     },
     "execution_count": 17,
     "metadata": {},
     "output_type": "execute_result"
    }
   ],
   "source": [
    "from graphviz import Source\n",
    "gv = Source(f.to_dot())\n",
    "gv.render('render_pdf_name',view=True)"
   ]
  }
 ],
 "metadata": {
  "kernelspec": {
   "display_name": "base",
   "language": "python",
   "name": "python3"
  },
  "language_info": {
   "codemirror_mode": {
    "name": "ipython",
    "version": 3
   },
   "file_extension": ".py",
   "mimetype": "text/x-python",
   "name": "python",
   "nbconvert_exporter": "python",
   "pygments_lexer": "ipython3",
   "version": "3.9.13"
  },
  "orig_nbformat": 4,
  "vscode": {
   "interpreter": {
    "hash": "ec2e170b6d4bf3d46d57f224595cf16d7a6f54651521a92baba5947bceaad0f8"
   }
  }
 },
 "nbformat": 4,
 "nbformat_minor": 2
}
